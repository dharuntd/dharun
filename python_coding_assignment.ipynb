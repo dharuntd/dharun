{
  "metadata": {
    "kernelspec": {
      "name": "python",
      "display_name": "Python (Pyodide)",
      "language": "python"
    },
    "language_info": {
      "codemirror_mode": {
        "name": "python",
        "version": 3
      },
      "file_extension": ".py",
      "mimetype": "text/x-python",
      "name": "python",
      "nbconvert_exporter": "python",
      "pygments_lexer": "ipython3",
      "version": "3.8"
    }
  },
  "nbformat_minor": 5,
  "nbformat": 4,
  "cells": [
    {
      "id": "c9156d3d-e1a7-46f6-928c-e90921b350e8",
      "cell_type": "code",
      "source": "Fundamentals of Python programming Assignment :\n\n",
      "metadata": {
        "trusted": true
      },
      "outputs": [],
      "execution_count": null
    },
    {
      "id": "51ebb59f-8600-4345-8b6c-bb72d0256ad4",
      "cell_type": "code",
      "source": "# Section one - Python Operations and Control Structures:\n\n",
      "metadata": {
        "trusted": true
      },
      "outputs": [],
      "execution_count": null
    },
    {
      "id": "c20a05c6-e558-41b6-8bb7-991eebb649d8",
      "cell_type": "code",
      "source": "1. Sum of all numbers in a list using a for loop\n                                       ",
      "metadata": {
        "trusted": true
      },
      "outputs": [],
      "execution_count": null
    },
    {
      "id": "95a49b24-5ace-48dd-8e8d-864e89854b51",
      "cell_type": "code",
      "source": "# Sample input\nnumbers = [1, 2, 3, 4, 5]\n\n# Initialize sum variable\ntotal_sum = 0\n\n# Use a for loop to iterate through the list and calculate the sum\nfor number in numbers:\n    total_sum += number\n\n# Print the result\nprint(\"The sum of all numbers in the list is:\", total_sum)",
      "metadata": {
        "trusted": true
      },
      "outputs": [
        {
          "name": "stdout",
          "output_type": "stream",
          "text": "The sum of all numbers in the list is: 15\n"
        }
      ],
      "execution_count": 1
    },
    {
      "id": "bba415a6-48d2-455e-9488-86b06bf050be",
      "cell_type": "code",
      "source": "",
      "metadata": {
        "trusted": true
      },
      "outputs": [],
      "execution_count": null
    },
    {
      "id": "e214926c-d85c-4bd7-b6fa-156f4158e340",
      "cell_type": "code",
      "source": "2. The output for the code:\n",
      "metadata": {
        "trusted": true
      },
      "outputs": [],
      "execution_count": null
    },
    {
      "id": "dee799f5-7ec9-4aa0-a22f-fef1dc3d86cc",
      "cell_type": "code",
      "source": "#The code provided uses the exponentiation operator (`**`) to calculate the power of `x` raised to `y`. Here is the breakdown:\n\n#In this case, x is 5 and y is 2. The expression x ** y calculates ( 5^2 ).\nTherefore, the sample output provided is correct. \n\nThe output of the code will indeed be 25\n",
      "metadata": {
        "trusted": true
      },
      "outputs": [],
      "execution_count": null
    },
    {
      "id": "ad292d47-be9e-481d-a4f3-6c21ab7adeb2",
      "cell_type": "code",
      "source": "3. Palindrome using a while loop:\n    ",
      "metadata": {
        "trusted": true
      },
      "outputs": [],
      "execution_count": null
    },
    {
      "id": "77580210-55b2-4c39-908c-defb4603bdd9",
      "cell_type": "code",
      "source": "# Sample input\nnum = 12321\n\n# Convert the number to a string\nnum_str = str(num)\n\n# Initialize pointers\nleft = 0\nright = len(num_str) - 1\n\n# Flag to indicate if it's a palindrome\nis_palindrome = True\n\n# Use a while loop to compare digits from both ends\nwhile left < right:\n    if num_str[left] != num_str[right]:\n        is_palindrome = False\n        break\n    left += 1\n    right -= 1\n\n# Print the result\nprint(is_palindrome)",
      "metadata": {
        "trusted": true
      },
      "outputs": [
        {
          "name": "stdout",
          "output_type": "stream",
          "text": "True\n"
        }
      ],
      "execution_count": 2
    },
    {
      "id": "96b00bca-6793-4037-b854-7ec931949bee",
      "cell_type": "code",
      "source": "#Explanation: The num_str variable holds the string representation of num.\n\nThe left pointer starts at the beginning of num_str, and the right pointer starts at the end.\n    \nThe while loop compares characters from both ends and moves towards each other.\n    \nIf any pair of characters does not match, it sets is_palindrome to False and breaks out of the loop.\n    \nFinally, it prints whether or not num is a palindrome.\n\n    ",
      "metadata": {
        "trusted": true
      },
      "outputs": [],
      "execution_count": null
    },
    {
      "id": "714c8212-7818-4217-af5d-0fecc2a4693c",
      "cell_type": "code",
      "source": "4. The output of the code:\n",
      "metadata": {
        "trusted": true
      },
      "outputs": [],
      "execution_count": null
    },
    {
      "id": "2f0b1097-dc0e-4766-9da7-d86dc750249c",
      "cell_type": "code",
      "source": "fruits = ['apple', 'banana', 'cherry']\nprint(fruits[-1])",
      "metadata": {
        "trusted": true
      },
      "outputs": [
        {
          "name": "stdout",
          "output_type": "stream",
          "text": "cherry\n"
        }
      ],
      "execution_count": 3
    },
    {
      "id": "bfd7253c-e75c-4454-9e42-69d770658ac7",
      "cell_type": "code",
      "source": "#Therefore, the sample output provided is correct.\n\nThe output of the code will indeed be \"cherry\".\n",
      "metadata": {
        "trusted": true
      },
      "outputs": [],
      "execution_count": null
    },
    {
      "id": "8cd21c61-6ad8-455f-9b4f-fcfca17d81e8",
      "cell_type": "code",
      "source": "5. The average of all the numbers in a list using a for loop:\n\n",
      "metadata": {
        "trusted": true
      },
      "outputs": [],
      "execution_count": null
    },
    {
      "id": "f49ea6c6-6b3f-4875-a262-37a711daa6fa",
      "cell_type": "code",
      "source": "# Sample input\nnumbers = [1, 2, 3, 4, 5]\n\n# Initialize sum variable\ntotal_sum = 0\n\n# Use a for loop to calculate the sum\nfor number in numbers:\n    total_sum += number\n\n# Calculate the average\naverage = total_sum / len(numbers)\n\n# Print the result\nprint(\"The average of all numbers in the list is:\", average)",
      "metadata": {
        "trusted": true
      },
      "outputs": [
        {
          "name": "stdout",
          "output_type": "stream",
          "text": "The average of all numbers in the list is: 3.0\n"
        }
      ],
      "execution_count": 4
    },
    {
      "id": "30669e26-bac8-48fd-9122-4ad975f62b46",
      "cell_type": "code",
      "source": "\n## Section two - Lists and Dictionaries:",
      "metadata": {
        "trusted": true
      },
      "outputs": [],
      "execution_count": null
    },
    {
      "id": "92dd7a2d-5e1d-4a7c-a6cc-87f90bc42394",
      "cell_type": "code",
      "source": "\n6. Create a Dictionary with students names as keys and their grates as values:\n",
      "metadata": {
        "trusted": true
      },
      "outputs": [],
      "execution_count": null
    },
    {
      "id": "3f100705-f4eb-4a39-bd0e-a8dbd46f2c11",
      "cell_type": "code",
      "source": "# Sample input\nstudents = ['John', 'Alice', 'Bob']\ngrades = [90, 85, 95]\n\n# Use zip to pair students with grades and create a dictionary\nstudent_grades = dict(zip(students, grades))\n\n# Print the resulting dictionary\nprint(student_grades)",
      "metadata": {
        "trusted": true
      },
      "outputs": [
        {
          "name": "stdout",
          "output_type": "stream",
          "text": "{'John': 90, 'Alice': 85, 'Bob': 95}\n"
        }
      ],
      "execution_count": 5
    },
    {
      "id": "95df8faf-f648-4b7c-b186-67f26bbb3ce9",
      "cell_type": "code",
      "source": "7. The output of the code:\n",
      "metadata": {
        "trusted": true
      },
      "outputs": [],
      "execution_count": null
    },
    {
      "id": "f5e0a21e-b14c-4656-9a44-170abeb50c32",
      "cell_type": "code",
      "source": "numbers = [1, 2, 3, 4, 5]\nprint(numbers[1:3])\nnumbers = [1, 2, 3, 4, 5]\nnumbers[1] = 2\nnumbers[2] = 3\nprint(numbers[1:3])",
      "metadata": {
        "trusted": true
      },
      "outputs": [
        {
          "name": "stdout",
          "output_type": "stream",
          "text": "[2, 3]\n[2, 3]\n"
        }
      ],
      "execution_count": 6
    },
    {
      "id": "4b971b28-fc08-4fed-8b00-ba6a96616a7a",
      "cell_type": "code",
      "source": "#the sample output provided is correct.\nThe output of the code will indeed be [2, 3].",
      "metadata": {
        "trusted": true
      },
      "outputs": [],
      "execution_count": null
    },
    {
      "id": "7e9260a2-9151-484e-8580-99022be5dc22",
      "cell_type": "code",
      "source": "\n8. Sort list of numbers in ascending order using the sorted() function:\n",
      "metadata": {
        "trusted": true
      },
      "outputs": [],
      "execution_count": null
    },
    {
      "id": "329077e9-dcbd-41fd-b1ea-e3a4abcd7493",
      "cell_type": "code",
      "source": "# Sample input\nnumbers = [4, 2, 9, 6, 5]\n\n# Use the sorted() function to sort the list in ascending order\nsorted_numbers = sorted(numbers)\n\n# Print the sorted list\nprint(sorted_numbers)",
      "metadata": {
        "trusted": true
      },
      "outputs": [
        {
          "name": "stdout",
          "output_type": "stream",
          "text": "[2, 4, 5, 6, 9]\n"
        }
      ],
      "execution_count": 7
    },
    {
      "id": "607a2d25-9cff-4393-a0f5-a1cc11ee4428",
      "cell_type": "code",
      "source": "\n9. The output of the code:\n",
      "metadata": {
        "trusted": true
      },
      "outputs": [],
      "execution_count": null
    },
    {
      "id": "f921ff63-0d98-4617-9433-f7fbcb76bc83",
      "cell_type": "code",
      "source": "fruits = {'apple': 5, 'banana': 10, 'cherry': 15}\nprint(fruits.get('banana'))",
      "metadata": {
        "trusted": true
      },
      "outputs": [
        {
          "name": "stdout",
          "output_type": "stream",
          "text": "10\n"
        }
      ],
      "execution_count": 8
    },
    {
      "id": "79ea0ab3-0d96-4b4f-ad7b-ae88960d1944",
      "cell_type": "code",
      "source": "The code provided uses the get() method to retrieve the value associated with the key 'banana'\nfrom the dictionary fruits.",
      "metadata": {
        "trusted": true
      },
      "outputs": [],
      "execution_count": null
    },
    {
      "id": "d914ff4f-dcbd-4aa4-a390-a80c4facfb91",
      "cell_type": "code",
      "source": "10. create a list of squares of all numbers from 1 to 10 using a list comprehension.\n\n",
      "metadata": {
        "trusted": true
      },
      "outputs": [],
      "execution_count": null
    },
    {
      "id": "0fabcd04-7d35-42a0-8dad-66a460089405",
      "cell_type": "code",
      "source": "# Use list comprehension to create a list of squares\nsquares = [x**2 for x in range(1, 11)]\n\n# Print the resulting list\nprint(squares)",
      "metadata": {
        "trusted": true
      },
      "outputs": [
        {
          "name": "stdout",
          "output_type": "stream",
          "text": "[1, 4, 9, 16, 25, 36, 49, 64, 81, 100]\n"
        }
      ],
      "execution_count": 9
    },
    {
      "id": "dc836580-5e2b-4c25-9c90-7620c0821783",
      "cell_type": "code",
      "source": "### Section 3 - Advanced Topics\n\n",
      "metadata": {
        "trusted": true
      },
      "outputs": [],
      "execution_count": null
    },
    {
      "id": "1dc330f2-da74-40ba-8789-edc3ffff06cf",
      "cell_type": "code",
      "source": "11. calculate the factorial of a number using recursion.\n",
      "metadata": {
        "trusted": true
      },
      "outputs": [],
      "execution_count": null
    },
    {
      "id": "f085573a-0220-4400-a2f0-0bcb4504a6ac",
      "cell_type": "code",
      "source": "def factorial(n):\n    # Base case: factorial of 0 or 1 is 1\n    if n == 0 or n == 1:\n        return 1\n    # Recursive case: n * factorial(n-1)\n    else:\n        return n * factorial(n-1)\n\n# Sample input\nnum = 5\n\n# Check if the number is negative\nif num < 0:\n    print(\"Sorry, factorial does not exist for negative numbers\")\nelse:\n    # Calculate and print the factorial\n    print(\"The factorial of\", num, \"is\", factorial(num))",
      "metadata": {
        "trusted": true
      },
      "outputs": [
        {
          "name": "stdout",
          "output_type": "stream",
          "text": "The factorial of 5 is 120\n"
        }
      ],
      "execution_count": 10
    },
    {
      "id": "931a266e-4476-4d5e-aa8a-80deb98f8adb",
      "cell_type": "code",
      "source": "\n12.The output for the code:\n",
      "metadata": {
        "trusted": true
      },
      "outputs": [],
      "execution_count": null
    },
    {
      "id": "1999e6a9-8263-4ff3-99b0-1710a719797f",
      "cell_type": "code",
      "source": "numbers = [1, 2, 3, 4, 5]\nprint(list(reversed(numbers)))",
      "metadata": {
        "trusted": true
      },
      "outputs": [
        {
          "name": "stdout",
          "output_type": "stream",
          "text": "[5, 4, 3, 2, 1]\n"
        }
      ],
      "execution_count": 11
    },
    {
      "id": "a9001fe6-d7f2-411d-8795-412f14118272",
      "cell_type": "code",
      "source": "#The code provided uses the reversed() function to reverse the order of the elements in the list numbers and \n#then converts the resulting iterator to a list using the list() function.",
      "metadata": {
        "trusted": true
      },
      "outputs": [],
      "execution_count": null
    },
    {
      "id": "b06a6b5c-668a-47e9-830f-80441968a3c7",
      "cell_type": "code",
      "source": "13.  create a generator that yields the Fibonacci sequence up to the nth term.\n",
      "metadata": {
        "trusted": true
      },
      "outputs": [],
      "execution_count": null
    },
    {
      "id": "9bafa2e9-02c2-4831-b698-862be1c5ed9f",
      "cell_type": "code",
      "source": "def fibonacci_generator(n):\n    # Initialize the first two Fibonacci numbers\n    a, b = 0, 1\n    \n    # Yield the first 'n' Fibonacci numbers\n    for _ in range(n):\n        yield a\n        a, b = b, a + b\n\n# Sample input\nn = 10\n\n# Create a list of the first 'n' Fibonacci numbers using the generator\nfibonacci_numbers = list(fibonacci_generator(n))\n\n# Print the result\nprint(fibonacci_numbers)",
      "metadata": {
        "trusted": true
      },
      "outputs": [
        {
          "name": "stdout",
          "output_type": "stream",
          "text": "[0, 1, 1, 2, 3, 5, 8, 13, 21, 34]\n"
        }
      ],
      "execution_count": 12
    },
    {
      "id": "4ffaa01c-8ac1-4fbf-9d17-6cc44b4ab69e",
      "cell_type": "code",
      "source": "",
      "metadata": {
        "trusted": true
      },
      "outputs": [],
      "execution_count": null
    },
    {
      "id": "6cafef93-a9ba-482a-9eb7-bbbe35462e3d",
      "cell_type": "code",
      "source": "14. The output for the code:\n",
      "metadata": {
        "trusted": true
      },
      "outputs": [],
      "execution_count": null
    },
    {
      "id": "3efb653f-3a87-46e9-a900-65a1a7698b1a",
      "cell_type": "code",
      "source": "import math\nprint(math.pi)",
      "metadata": {
        "trusted": true
      },
      "outputs": [
        {
          "name": "stdout",
          "output_type": "stream",
          "text": "3.141592653589793\n"
        }
      ],
      "execution_count": 13
    },
    {
      "id": "0ee74bb9-a0f9-4ecc-bafa-e895fe0c0744",
      "cell_type": "code",
      "source": "#The code provided uses the math.pi constant from Python's math module to print the value of Pi.",
      "metadata": {
        "trusted": true
      },
      "outputs": [],
      "execution_count": null
    },
    {
      "id": "7770d7af-1aeb-4091-a2ee-195c397ba235",
      "cell_type": "code",
      "source": "15. print the inverted star pyramid of height 5.\n\n",
      "metadata": {
        "trusted": true
      },
      "outputs": [],
      "execution_count": null
    },
    {
      "id": "51c26e31-cc21-488a-b4ea-b603d5a4cf90",
      "cell_type": "code",
      "source": "# Set the number of rows\nrows = 5\n\n# Outer loop to control the number of rows\nfor i in range(rows, 0, -1):\n    # Inner loop to print spaces\n    for j in range(rows - i):\n        print(\" \", end=\" \")\n    \n    # Inner loop to print stars\n    for j in range(2 * i - 1):\n        print(\"*\", end=\" \")\n    \n    # Move to the next line after printing each row\n    print()",
      "metadata": {
        "trusted": true
      },
      "outputs": [
        {
          "name": "stdout",
          "output_type": "stream",
          "text": "* * * * * * * * * \n  * * * * * * * \n    * * * * * \n      * * * \n        * \n"
        }
      ],
      "execution_count": 14
    },
    {
      "id": "5413997f-cd04-4d78-95aa-ae4bcd3d2b3b",
      "cell_type": "code",
      "source": "",
      "metadata": {
        "trusted": true
      },
      "outputs": [],
      "execution_count": null
    }
  ]
}